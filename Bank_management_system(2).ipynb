{
 "cells": [
  {
   "cell_type": "markdown",
   "metadata": {},
   "source": [
    "# Bank Account Management System\n",
    "\n",
    "Write a Python program to manage a simple bank account system with the following functionalities:\n",
    "\n",
    "- Create an empty dictionary named `accounts`.\n",
    "- Write a function named `create_account` that:\n",
    "  1. Takes four inputs: `name`, `address`, `phone`, and an optional parameter `balance` (default is 0, if not provided).\n",
    "  2. Checks if an account with the same name, address, and phone number already exists in the `accounts` dictionary.\n",
    "  3. If it exists, prints the account number.\n",
    "  4. If no account exists, it generates a new 12-digit unique account number using the following format:\n",
    "      - The first 3 digits represent the location_code.\n",
    "      - The next 3 digits represent the bank_code.\n",
    "      - The last 6 digits are a randomly generated unique number. create another function and use `random` to generate the numbers.\n",
    "  5. Prints the newly created account number."
   ]
  },
  {
   "cell_type": "code",
   "execution_count": 2,
   "metadata": {},
   "outputs": [],
   "source": [
    "import random\n",
    "accounts = {}"
   ]
  },
  {
   "cell_type": "code",
   "execution_count": 3,
   "metadata": {},
   "outputs": [
    {
     "name": "stdout",
     "output_type": "stream",
     "text": [
      "New account created. Account number: 123-456-447891\n",
      "New account created. Account number: 123-456-555868\n",
      "New account created. Account number: 123-456-797664\n"
     ]
    }
   ],
   "source": [
    "def generate_unique_account_number(location_code, bank_code):\n",
    "    while True:\n",
    "        unique_number = random.randint(100000, 999999)\n",
    "        account_number = f\"{location_code:03d}-{bank_code:03d}-{unique_number:06d}\"\n",
    "        \n",
    "        if account_number not in accounts:\n",
    "            return account_number\n",
    "\n",
    "def create_account(name, address, phone, balance=0):\n",
    "    account_key = (name, address, phone)\n",
    "    \n",
    "    if account_key in accounts:\n",
    "        print(f\"Account already exists. Account number: {accounts[account_key]['account_number']}\")\n",
    "        return accounts[account_key]['account_number']\n",
    "    \n",
    "    location_code = 123  \n",
    "    bank_code = 456      \n",
    "    account_number = generate_unique_account_number(location_code, bank_code)\n",
    "    \n",
    "    accounts[account_key] = {\n",
    "        'account_number': account_number,\n",
    "        'balance': balance\n",
    "    }\n",
    "    \n",
    "    print(f\"New account created. Account number: {account_number}\")\n",
    "    return account_number\n",
    "\n",
    "if __name__ == \"__main__\":\n",
    "    create_account(\"Abigail Coop\", \"123 Frnk St\", \"444-1234\")\n",
    "    create_account(\"Reko John\", \"456 Wells St\", \"333-5678\")\n",
    "    create_account(\"Mark Anthony\", \"789 Palm St\", \"555-1234\")  "
   ]
  },
  {
   "cell_type": "code",
   "execution_count": null,
   "metadata": {},
   "outputs": [],
   "source": []
  },
  {
   "cell_type": "markdown",
   "metadata": {},
   "source": [
    "- Write a function named `deposit` that:\n",
    "  1. Takes two inputs: `acc_num` and `amount`.\n",
    "  2. Checks if the account exists in the `accounts` dictionary.\n",
    "  3. If the account exists, adds the `amount` to the account's balance and prints the new balance.\n",
    "  4. If the account does not exist, prints an error message."
   ]
  },
  {
   "cell_type": "code",
   "execution_count": 5,
   "metadata": {},
   "outputs": [],
   "source": [
    "accounts = {\n",
    "    '12345': {'balance': 1000},\n",
    "    '67890': {'balance': 500},\n",
    "    '54321': {'balance': 750}\n",
    "}\n",
    "\n",
    "def deposit(acc_num, amount):\n",
    "    if acc_num in accounts:\n",
    "        accounts[acc_num]['balance'] += amount\n",
    "        print(f\"New balance for account {acc_num}: ${accounts[acc_num]['balance']:.2f}\")\n",
    "    else:\n",
    "        print(f\"Error: Account number {acc_num} does not exist.\")"
   ]
  },
  {
   "cell_type": "code",
   "execution_count": 6,
   "metadata": {},
   "outputs": [
    {
     "name": "stdout",
     "output_type": "stream",
     "text": [
      "New balance for account 12345: $1200.00\n",
      "Error: Account number 78900 does not exist.\n"
     ]
    }
   ],
   "source": [
    "deposit('12345', 200)  \n",
    "deposit('78900', 100)"
   ]
  },
  {
   "cell_type": "markdown",
   "metadata": {},
   "source": [
    "- Write a function named `withdraw` that:\n",
    "  1. Takes two inputs: `acc_num` and `amount`.\n",
    "  2. Checks if the account exists in the `accounts` dictionary.\n",
    "  3. If the account exists, checks if the account has enough balance.\n",
    "  4. If the account has enough balance, subtracts the `amount` from the account's balance and prints the new balance.\n",
    "  5. If the account does not have enough balance, prints an error message.\n",
    "  6. If the account does not exist, prints an error message."
   ]
  },
  {
   "cell_type": "code",
   "execution_count": 20,
   "metadata": {},
   "outputs": [],
   "source": [
    "accounts = {\n",
    "    '12345': {'balance': 1000},\n",
    "    '67890': {'balance': 500},\n",
    "    '54321': {'balance': 750}\n",
    "}\n",
    "\n",
    "def withdraw(acc_num, amount):\n",
    "    if acc_num in accounts:\n",
    "        if accounts[acc_num]['balance'] >= amount:\n",
    "            accounts[acc_num]['balance'] -= amount\n",
    "            print(f\"New balance for account {acc_num}: ${accounts[acc_num]['balance']:.2f}\")\n",
    "        else:\n",
    "            print(f\"Error: Insufficient balance in account {acc_num}.\")\n",
    "    else:\n",
    "        print(f\"Error: Account number {acc_num} does not exist.\")"
   ]
  },
  {
   "cell_type": "code",
   "execution_count": 19,
   "metadata": {},
   "outputs": [
    {
     "name": "stdout",
     "output_type": "stream",
     "text": [
      "New balance for account 12345: $800.00\n",
      "New balance for account 54321: $550.00\n",
      "Error: Account number 78922 does not exist.\n"
     ]
    }
   ],
   "source": [
    "withdraw('12345', 200)\n",
    "withdraw('54321', 200)\n",
    "withdraw('78922', 200)"
   ]
  },
  {
   "cell_type": "markdown",
   "metadata": {},
   "source": [
    "- Write an additional function named `transfer` that:\n",
    "  1. Takes three inputs: `from_acc_num`, `to_acc_num`, and `amount`.\n",
    "  2. Checks if both `from_acc_num` and `to_acc_num` exist in the `accounts` dictionary.\n",
    "  3. If either account does not exist, prints an error message.\n",
    "  4. If both accounts exist, transfers the `amount` from `from_acc_num` to `to_acc_num`.\n",
    "  5. Prints a success message with the transferred amount and the new balances of both accounts."
   ]
  },
  {
   "cell_type": "code",
   "execution_count": 21,
   "metadata": {},
   "outputs": [],
   "source": [
    "accounts = {\n",
    "    '12345': {'balance': 1000},\n",
    "    '67890': {'balance': 500},\n",
    "    '54321': {'balance': 750}\n",
    "}\n",
    "\n",
    "def transfer(from_acc_num, to_acc_num, amount):\n",
    "    if from_acc_num in accounts and to_acc_num in accounts:\n",
    "        if accounts[from_acc_num]['balance'] >= amount:\n",
    "            accounts[from_acc_num]['balance'] -= amount\n",
    "            accounts[to_acc_num]['balance'] += amount\n",
    "            print(f\"Successfully transferred ${amount:.2f} from account {from_acc_num} to account {to_acc_num}.\")\n",
    "            print(f\"New balance for account {from_acc_num}: ${accounts[from_acc_num]['balance']:.2f}\")\n",
    "            print(f\"New balance for account {to_acc_num}: ${accounts[to_acc_num]['balance']:.2f}\")\n",
    "        else:\n",
    "            print(f\"Error: Insufficient balance in account {from_acc_num}.\")\n",
    "    else:\n",
    "        if from_acc_num not in accounts:\n",
    "            print(f\"Error: Account number {from_acc_num} does not exist.\")\n",
    "        if to_acc_num not in accounts:\n",
    "            print(f\"Error: Account number {to_acc_num} does not exist.\")"
   ]
  },
  {
   "cell_type": "code",
   "execution_count": 22,
   "metadata": {},
   "outputs": [
    {
     "name": "stdout",
     "output_type": "stream",
     "text": [
      "Successfully transferred $200.00 from account 12345 to account 67890.\n",
      "New balance for account 12345: $800.00\n",
      "New balance for account 67890: $700.00\n",
      "Successfully transferred $100.00 from account 67890 to account 54321.\n",
      "New balance for account 67890: $600.00\n",
      "New balance for account 54321: $850.00\n",
      "Error: Account number 32165 does not exist.\n"
     ]
    }
   ],
   "source": [
    "transfer('12345', '67890', 200)\n",
    "transfer('67890', '54321', 100)\n",
    "transfer('32165','12345', 100)"
   ]
  },
  {
   "cell_type": "markdown",
   "metadata": {},
   "source": [
    "- Finally Make all the functions into one wrapper function then deploy it locally"
   ]
  },
  {
   "cell_type": "code",
   "execution_count": 23,
   "metadata": {},
   "outputs": [
    {
     "name": "stdout",
     "output_type": "stream",
     "text": [
      "\n",
      "Welcome to the Banking System\n",
      "1. Deposit\n",
      "2. Withdraw\n",
      "3. Transfer\n",
      "4. Exit\n"
     ]
    },
    {
     "name": "stdin",
     "output_type": "stream",
     "text": [
      "Please select an option (1-4):  2\n",
      "Enter account number:  12345\n",
      "Enter amount to withdraw:  50\n"
     ]
    },
    {
     "name": "stdout",
     "output_type": "stream",
     "text": [
      "New balance for account 12345: $950.00\n",
      "\n",
      "Welcome to the Banking System\n",
      "1. Deposit\n",
      "2. Withdraw\n",
      "3. Transfer\n",
      "4. Exit\n"
     ]
    },
    {
     "name": "stdin",
     "output_type": "stream",
     "text": [
      "Please select an option (1-4):  4\n"
     ]
    },
    {
     "name": "stdout",
     "output_type": "stream",
     "text": [
      "Exiting the Banking System. Goodbye!\n"
     ]
    }
   ],
   "source": [
    "accounts = {\n",
    "    '12345': {'balance': 1000},\n",
    "    '67890': {'balance': 500},\n",
    "    '54321': {'balance': 750}\n",
    "}\n",
    "\n",
    "def deposit(acc_num, amount):\n",
    "    if acc_num in accounts:\n",
    "        accounts[acc_num]['balance'] += amount\n",
    "        print(f\"New balance for account {acc_num}: ${accounts[acc_num]['balance']:.2f}\")\n",
    "    else:\n",
    "        print(f\"Error: Account number {acc_num} does not exist.\")\n",
    "\n",
    "def withdraw(acc_num, amount):\n",
    "    if acc_num in accounts:\n",
    "        if accounts[acc_num]['balance'] >= amount:\n",
    "            accounts[acc_num]['balance'] -= amount\n",
    "            print(f\"New balance for account {acc_num}: ${accounts[acc_num]['balance']:.2f}\")\n",
    "        else:\n",
    "            print(f\"Error: Insufficient balance in account {acc_num}.\")\n",
    "    else:\n",
    "        print(f\"Error: Account number {acc_num} does not exist.\")\n",
    "\n",
    "def transfer(from_acc_num, to_acc_num, amount):\n",
    "    if from_acc_num in accounts and to_acc_num in accounts:\n",
    "        if accounts[from_acc_num]['balance'] >= amount:\n",
    "            accounts[from_acc_num]['balance'] -= amount\n",
    "            accounts[to_acc_num]['balance'] += amount\n",
    "            print(f\"Successfully transferred ${amount:.2f} from account {from_acc_num} to account {to_acc_num}.\")\n",
    "            print(f\"New balance for account {from_acc_num}: ${accounts[from_acc_num]['balance']:.2f}\")\n",
    "            print(f\"New balance for account {to_acc_num}: ${accounts[to_acc_num]['balance']:.2f}\")\n",
    "        else:\n",
    "            print(f\"Error: Insufficient balance in account {from_acc_num}.\")\n",
    "    else:\n",
    "        if from_acc_num not in accounts:\n",
    "            print(f\"Error: Account number {from_acc_num} does not exist.\")\n",
    "        if to_acc_num not in accounts:\n",
    "            print(f\"Error: Account number {to_acc_num} does not exist.\")\n",
    "\n",
    "def banking_system():\n",
    "    while True:\n",
    "        print(\"\\nWelcome to the Banking System\")\n",
    "        print(\"1. Deposit\")\n",
    "        print(\"2. Withdraw\")\n",
    "        print(\"3. Transfer\")\n",
    "        print(\"4. Exit\")\n",
    "        \n",
    "        choice = input(\"Please select an option (1-4): \")\n",
    "        \n",
    "        if choice == '1':\n",
    "            acc_num = input(\"Enter account number: \")\n",
    "            amount = float(input(\"Enter amount to deposit: \"))\n",
    "            deposit(acc_num, amount)\n",
    "        \n",
    "        elif choice == '2':\n",
    "            acc_num = input(\"Enter account number: \")\n",
    "            amount = float(input(\"Enter amount to withdraw: \"))\n",
    "            withdraw(acc_num, amount)\n",
    "        \n",
    "        elif choice == '3':\n",
    "            from_acc_num = input(\"Enter source account number: \")\n",
    "            to_acc_num = input(\"Enter destination account number: \")\n",
    "            amount = float(input(\"Enter amount to transfer: \"))\n",
    "            transfer(from_acc_num, to_acc_num, amount)\n",
    "        \n",
    "        elif choice == '4':\n",
    "            print(\"Exiting the Banking System. Goodbye!\")\n",
    "            break\n",
    "        \n",
    "        else:\n",
    "            print(\"Invalid option. Please try again.\")\n",
    "\n",
    "if __name__ == \"__main__\":\n",
    "    banking_system()\n"
   ]
  }
 ],
 "metadata": {
  "kernelspec": {
   "display_name": "Python 3 (ipykernel)",
   "language": "python",
   "name": "python3"
  },
  "language_info": {
   "codemirror_mode": {
    "name": "ipython",
    "version": 3
   },
   "file_extension": ".py",
   "mimetype": "text/x-python",
   "name": "python",
   "nbconvert_exporter": "python",
   "pygments_lexer": "ipython3",
   "version": "3.12.7"
  }
 },
 "nbformat": 4,
 "nbformat_minor": 4
}
